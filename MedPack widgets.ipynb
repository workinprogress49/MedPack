{
 "cells": [
  {
   "cell_type": "code",
   "execution_count": 1,
   "metadata": {},
   "outputs": [
    {
     "data": {
      "application/vnd.jupyter.widget-view+json": {
       "model_id": "b7ae4a607ca74208866485cc40553c86",
       "version_major": 2,
       "version_minor": 0
      },
      "text/plain": [
       "A Jupyter Widget"
      ]
     },
     "metadata": {},
     "output_type": "display_data"
    }
   ],
   "source": [
    "import MedPack\n",
    "from ipywidgets import interact_manual\n",
    "\n",
    "interacting_widget = interact_manual(MedPack.search_drugs_widget,\n",
    "indications_and_usage = '',\n",
    "pharm_class_epc = '',\n",
    "pharm_class_pe = '',\n",
    "product_ndc  = '',\n",
    "product_type = '',\n",
    "route = '',\n",
    "rxcui = '',\n",
    "substance_name = '',\n",
    "pharm_class_moa = '');"
   ]
  },
  {
   "cell_type": "code",
   "execution_count": 2,
   "metadata": {},
   "outputs": [
    {
     "data": {
      "application/vnd.jupyter.widget-view+json": {
       "model_id": "3eb7501c4fae4ce19d66b53c50743823",
       "version_major": 2,
       "version_minor": 0
      },
      "text/plain": [
       "A Jupyter Widget"
      ]
     },
     "metadata": {},
     "output_type": "display_data"
    },
    {
     "data": {
      "text/plain": [
       "<function __main__.search>"
      ]
     },
     "execution_count": 2,
     "metadata": {},
     "output_type": "execute_result"
    }
   ],
   "source": [
    "from ipywidgets import interact\n",
    "\n",
    "def search(search, options):\n",
    "    from fuzzywuzzy import process\n",
    "    possibilities = MedPack.show_me(options)\n",
    "    if search == '':\n",
    "        return \n",
    "    return [x[0] for x in process.extract(search, possibilities)]\n",
    "\n",
    "interact(search,search = '', options = ['pharm_class_epc', 'pharm_class_pe','pharm_class_moa','route', 'product_type'])"
   ]
  }
 ],
 "metadata": {
  "kernelspec": {
   "display_name": "Python 3",
   "language": "python",
   "name": "python3"
  },
  "language_info": {
   "codemirror_mode": {
    "name": "ipython",
    "version": 3
   },
   "file_extension": ".py",
   "mimetype": "text/x-python",
   "name": "python",
   "nbconvert_exporter": "python",
   "pygments_lexer": "ipython3",
   "version": "3.5.5"
  }
 },
 "nbformat": 4,
 "nbformat_minor": 2
}
